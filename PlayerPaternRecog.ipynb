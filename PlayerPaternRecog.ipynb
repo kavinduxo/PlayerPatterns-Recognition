{
 "cells": [
  {
   "cell_type": "code",
   "execution_count": null,
   "metadata": {},
   "outputs": [],
   "source": [
    "# install initial required \n",
    "install.packages(\"devtools\")\n",
    "install.packages(\"tidyverse\")\n",
    "install.packages(\"ggstatsplot\")\n",
    "install.packages(\"ggplot2\")\n",
    "install.packages(\"readxl\")\n",
    "install.packages(\"factoextra\")\n",
    "install.packages(\"NbClust\")\n",
    "install.packages(\"rlang\")\n",
    "install.packages('swamp')\n",
    "install.packages(\"dplyr\")"
   ]
  },
  {
   "cell_type": "code",
   "execution_count": null,
   "metadata": {},
   "outputs": [],
   "source": [
    "if (!require(\"BiocManager\", quietly = TRUE))\n",
    "    install.packages(\"BiocManager\")\n",
    "\n",
    "BiocManager::install(\"impute\")"
   ]
  },
  {
   "cell_type": "code",
   "execution_count": null,
   "metadata": {},
   "outputs": [],
   "source": [
    "install.packages(\"caret\", dependencies=c(\"Depends\", \"Suggests\"))\n",
    "library(caret)\n",
    "install.packages(\"ggplot2\")\n",
    "install.packages(\"ggstatsplot\")"
   ]
  },
  {
   "cell_type": "code",
   "execution_count": null,
   "metadata": {},
   "outputs": [],
   "source": [
    "# import csv file into R\n",
    "path <- \"D:/Nav/my_projects/ML/SkillCraft_Dataset.csv\"\n",
    "gameDataSet <- read.csv(path)"
   ]
  },
  {
   "cell_type": "code",
   "execution_count": null,
   "metadata": {},
   "outputs": [],
   "source": [
    "#Column Names\n",
    "colnames(gameDataSet)"
   ]
  },
  {
   "cell_type": "code",
   "execution_count": null,
   "metadata": {},
   "outputs": [],
   "source": [
    "#Remove GameID since it makes no sense to inputs\n",
    "gameDataSet = gameDataSet[,!(names(gameDataSet) %in% c(\"GameID\"))]"
   ]
  },
  {
   "cell_type": "code",
   "execution_count": null,
   "metadata": {},
   "outputs": [],
   "source": [
    "#demo dataset\n",
    "head(gameDataSet)"
   ]
  },
  {
   "cell_type": "code",
   "execution_count": null,
   "metadata": {},
   "outputs": [],
   "source": [
    "#Findout the dataType or classes of df\n",
    "sapply(gameDataSet, class)"
   ]
  },
  {
   "cell_type": "code",
   "execution_count": null,
   "metadata": {},
   "outputs": [],
   "source": [
    "#Convert Non-Numeric columns to Numeric\n",
    "\n",
    "## Specifying columns want to change\n",
    "cf <- c(2, 3, 4)\n",
    "\n",
    "# Specifying own function within apply\n",
    "gameDataSet[ , cf] <- apply(gameDataSet[ , cf], 2,            \n",
    "                    function(x) as.numeric(as.character(x)))"
   ]
  },
  {
   "cell_type": "code",
   "execution_count": null,
   "metadata": {},
   "outputs": [],
   "source": [
    "#Findout the dataType or classes of df\n",
    "sapply(gameDataSet, class)"
   ]
  },
  {
   "cell_type": "code",
   "execution_count": null,
   "metadata": {},
   "outputs": [],
   "source": [
    "install.packages(\"magrittr\") # package installations are only needed the first time you use it\n",
    "install.packages(\"dplyr\")    # alternative installation of the %>%\n",
    "library(magrittr) # needs to be run every time you start R and want to use %>%\n",
    "library(dplyr) "
   ]
  },
  {
   "cell_type": "code",
   "execution_count": null,
   "metadata": {},
   "outputs": [],
   "source": [
    "# Applying functions of dplyr\n",
    "gameDf_scaled <- gameDataSet %>%           \n",
    "  mutate_at(colnames(gameDataSet), ~(scale(.) %>% as.vector))\n",
    "\n",
    "head(gameDf_scaled)"
   ]
  },
  {
   "cell_type": "code",
   "execution_count": null,
   "metadata": {},
   "outputs": [],
   "source": [
    "# Create a boxplot of the dataset, outliers are shown as two distinct points\n",
    "boxplot(gameDf_scaled)$out"
   ]
  },
  {
   "cell_type": "code",
   "execution_count": null,
   "metadata": {},
   "outputs": [],
   "source": [
    "# create detect outlier function\n",
    "find_outlierx <- function(x) { \n",
    "  Quantilex1 <- quantile(x, probs=.25)\n",
    "  Quantilex3 <- quantile(x, probs=.75)\n",
    "  IQR = Quantilex3-Quantilex1\n",
    "  x > Quantilex3 + (IQR*1.5) | x < Quantilex1 - (IQR*1.5)\n",
    "}"
   ]
  },
  {
   "cell_type": "code",
   "execution_count": null,
   "metadata": {},
   "outputs": [],
   "source": [
    "# create remove outlier function\n",
    "remove_outliery <- function(dataframe,\n",
    "                            columns=names(dataframe)) { \n",
    "  # for loop to traverse in columns vector\n",
    "  for (col in columns) {\n",
    "\n",
    "      # remove observation if it satisfies outlier function\n",
    "      dataframe <- dataframe[!find_outlierx(dataframe[[col]]), ]\n",
    "  }\n",
    "\n",
    "  # return dataframe\n",
    "  print(\"Remove outliers\")\n",
    "  print(dataframe)\n",
    "}"
   ]
  },
  {
   "cell_type": "code",
   "execution_count": null,
   "metadata": {},
   "outputs": [],
   "source": [
    "#Set NaN to 0.\n",
    "gameDf_scaled[is.na(gameDf_scaled)] = 0"
   ]
  },
  {
   "cell_type": "code",
   "execution_count": null,
   "metadata": {},
   "outputs": [],
   "source": [
    "#Remove Outliers\n",
    "nill_outliers_gameDf_scaled <- remove_outliery(gameDf_scaled, colnames(gameDf_scaled))"
   ]
  },
  {
   "cell_type": "code",
   "execution_count": null,
   "metadata": {},
   "outputs": [],
   "source": [
    "# Create a boxplot of the dataset, after removing outliers\n",
    "boxplot(nill_outliers_gameDf_scaled)$out"
   ]
  },
  {
   "cell_type": "code",
   "execution_count": null,
   "metadata": {},
   "outputs": [],
   "source": [
    "#seperate Input variables and Output variable\n",
    "output_column = nill_outliers_gameDf_scaled$LeagueIndex  \n",
    "\n",
    "new_input_gameDf = nill_outliers_gameDf_scaled[,!(names(nill_outliers_gameDf_scaled) %in% c(\"LeagueIndex\"))]"
   ]
  },
  {
   "cell_type": "code",
   "execution_count": null,
   "metadata": {},
   "outputs": [],
   "source": [
    "# Visualize indivizual classes\n",
    "oldpar1 = par(mfrow = c(2,6))\n",
    "for ( i in 1:11 ) {\n",
    "  boxplot(new_input_gameDf[[i]])\n",
    "  mtext(names(new_input_gameDf)[i], cex = 1, side = 1, line = 2)\n",
    "}\n",
    "par(oldpar1) "
   ]
  },
  {
   "cell_type": "code",
   "execution_count": null,
   "metadata": {},
   "outputs": [],
   "source": [
    "install.packages(\"randomForest\")\n",
    "install.packages(\"party\")\n",
    "install.packages(\"Amelia\")\n",
    "install.packages(\"yardstick\")"
   ]
  },
  {
   "cell_type": "code",
   "execution_count": null,
   "metadata": {},
   "outputs": [],
   "source": [
    "library(randomForest)\n",
    "require(caTools)\n",
    "library(\"party\")\n",
    "library('tidyverse')\n",
    "library(\"Amelia\")\n",
    "library('randomForest')\n",
    "library(caret) # for applying classification and getting confusion matrix\n",
    "library('yardstick')"
   ]
  },
  {
   "cell_type": "code",
   "execution_count": null,
   "metadata": {},
   "outputs": [],
   "source": [
    "head(nill_outliers_gameDf_scaled)"
   ]
  },
  {
   "cell_type": "code",
   "execution_count": null,
   "metadata": {},
   "outputs": [],
   "source": [
    "#QUick summary for the dataset\n",
    "summary(nill_outliers_gameDf_scaled)"
   ]
  },
  {
   "cell_type": "code",
   "execution_count": null,
   "metadata": {},
   "outputs": [],
   "source": [
    "#Data types of each df.column\n",
    "sapply(nill_outliers_gameDf_scaled, class)"
   ]
  },
  {
   "cell_type": "code",
   "execution_count": null,
   "metadata": {},
   "outputs": [],
   "source": [
    "#Converting Ranking column to charater \n",
    "nill_outliers_gameDf_scaled$LeagueIndex = as.character(as.numeric(nill_outliers_gameDf_scaled$LeagueIndex))"
   ]
  },
  {
   "cell_type": "code",
   "execution_count": null,
   "metadata": {},
   "outputs": [],
   "source": [
    "#Replacing with reasonable Charater (ASC ORD)\n",
    "nill_outliers_gameDf_scaled$LeagueIndex <- str_replace(nill_outliers_gameDf_scaled$LeagueIndex, \"-2.09848934275149\", \"A\")\n",
    "nill_outliers_gameDf_scaled$LeagueIndex <- str_replace(nill_outliers_gameDf_scaled$LeagueIndex, \"-1.43943556674397\", \"B\")\n",
    "nill_outliers_gameDf_scaled$LeagueIndex <- str_replace(nill_outliers_gameDf_scaled$LeagueIndex, \"-0.780381790736446\", \"C\")\n",
    "nill_outliers_gameDf_scaled$LeagueIndex <- str_replace(nill_outliers_gameDf_scaled$LeagueIndex, \"-0.121328014728925\", \"D\")\n",
    "nill_outliers_gameDf_scaled$LeagueIndex <- str_replace(nill_outliers_gameDf_scaled$LeagueIndex, \"0.537725761278596\", \"E\")\n",
    "nill_outliers_gameDf_scaled$LeagueIndex <- str_replace(nill_outliers_gameDf_scaled$LeagueIndex, \"1.19677953728612\", \"F\")\n",
    "nill_outliers_gameDf_scaled$LeagueIndex <- str_replace(nill_outliers_gameDf_scaled$LeagueIndex, \"1.85583331329364\", \"G\")"
   ]
  },
  {
   "cell_type": "code",
   "execution_count": null,
   "metadata": {},
   "outputs": [],
   "source": [
    "#Converting character to factor for furtur processings\n",
    "nill_outliers_gameDf_scaled$LeagueIndex = as.factor(as.character(nill_outliers_gameDf_scaled$LeagueIndex))"
   ]
  },
  {
   "cell_type": "code",
   "execution_count": null,
   "metadata": {},
   "outputs": [],
   "source": [
    "# Getting distinct value of rank column with new values\n",
    "distinct(nill_outliers_gameDf_scaled, LeagueIndex)"
   ]
  },
  {
   "cell_type": "code",
   "execution_count": null,
   "metadata": {},
   "outputs": [],
   "source": [
    "#Finding Null values for columns\n",
    "SumNa <- function(col){sum(is.na(col))}"
   ]
  },
  {
   "cell_type": "code",
   "execution_count": null,
   "metadata": {},
   "outputs": [],
   "source": [
    "#Filtering for all the feature columns\n",
    "data.sum <- nill_outliers_gameDf_scaled %>% \n",
    "  summarise_all(SumNa) %>%\n",
    "  tidyr::gather(key='feature', value='SumNa') %>%\n",
    "  arrange(-SumNa) %>%\n",
    "  mutate(PctNa = SumNa/nrow(nill_outliers_gameDf_scaled))"
   ]
  },
  {
   "cell_type": "code",
   "execution_count": null,
   "metadata": {},
   "outputs": [],
   "source": [
    "#Filetering for Index Column ..consider the PCA\n",
    "data.sum2 <- data.sum %>% \n",
    "  filter(! (feature %in% c('LeagueIndex'))) %>%\n",
    "  filter(PctNa < .85)"
   ]
  },
  {
   "cell_type": "code",
   "execution_count": null,
   "metadata": {},
   "outputs": [],
   "source": [
    "data.sum2$feature"
   ]
  },
  {
   "cell_type": "code",
   "execution_count": null,
   "metadata": {},
   "outputs": [],
   "source": [
    "#Finalize the dataframe to train\n",
    "data_F <- nill_outliers_gameDf_scaled %>% \n",
    "  dplyr::select(LeagueIndex, data.sum2$feature) %>%\n",
    "  filter(!is.na(LeagueIndex))"
   ]
  },
  {
   "cell_type": "code",
   "execution_count": null,
   "metadata": {},
   "outputs": [],
   "source": [
    "#Gap visualizing\n",
    "Amelia::missmap(as.data.frame(data_F))"
   ]
  },
  {
   "cell_type": "code",
   "execution_count": null,
   "metadata": {},
   "outputs": [],
   "source": [
    "set.seed(8576309)\n",
    "\n",
    "#Partition data set for Train and Test with 70% and 30% Accordingly\n",
    "trainIndex <- createDataPartition(data_F$LeagueIndex, \n",
    "                                  p = .7, \n",
    "                                  list = FALSE, \n",
    "                                  times = 1)"
   ]
  },
  {
   "cell_type": "code",
   "execution_count": null,
   "metadata": {},
   "outputs": [],
   "source": [
    "train_df <- data_F[trainIndex, ]\n",
    "test_df <- data_F[-trainIndex, ]"
   ]
  },
  {
   "cell_type": "code",
   "execution_count": null,
   "metadata": {},
   "outputs": [],
   "source": [
    "# Defining controller for train\n",
    "train_ctrl <- trainControl(method=\"cv\", # type of resampling in this case Cross-Validated\n",
    "                           number=3, # number of folds\n",
    "                           search = \"random\", # we are performing a \"random\n",
    "                           )"
   ]
  },
  {
   "cell_type": "code",
   "execution_count": null,
   "metadata": {},
   "outputs": [],
   "source": [
    "# Index demo\n",
    "class(train_df[,1])"
   ]
  },
  {
   "cell_type": "code",
   "execution_count": null,
   "metadata": {},
   "outputs": [],
   "source": [
    "toc <- Sys.time()\n",
    "\n",
    "#Training the model...\n",
    "model_rf <- train(LeagueIndex ~ .,\n",
    "                       data = train_df,\n",
    "                       method = \"rf\", # this will use the randomForest::randomForest function\n",
    "                       metric =  \"Accuracy\", # which metric should be optimized for \n",
    "                       trControl = train_ctrl,\n",
    "                       # options to be passed to randomForest\n",
    "                       ntree = 741,\n",
    "                       keep.forest=TRUE,\n",
    "                       importance=TRUE) \n",
    "tic <- Sys.time()"
   ]
  },
  {
   "cell_type": "code",
   "execution_count": null,
   "metadata": {},
   "outputs": [],
   "source": [
    "# Execution time\n",
    "tic - toc"
   ]
  },
  {
   "cell_type": "code",
   "execution_count": null,
   "metadata": {},
   "outputs": [],
   "source": [
    "#Model Summary\n",
    "model_rf"
   ]
  },
  {
   "cell_type": "code",
   "execution_count": null,
   "metadata": {},
   "outputs": [],
   "source": [
    "#Plotting the Features\n",
    "randomForest::varImpPlot(model_rf$finalModel)"
   ]
  },
  {
   "cell_type": "code",
   "execution_count": null,
   "metadata": {},
   "outputs": [],
   "source": [
    "# Getting test dataframe performed\n",
    "probs <- predict(model_rf, test_df, 'prob')\n",
    "class <- predict(model_rf, test_df, 'raw')\n",
    "\n",
    "\n",
    "test_df.scored <- cbind(test_df, probs, class)\n",
    "\n",
    "test_df.scored"
   ]
  },
  {
   "cell_type": "code",
   "execution_count": null,
   "metadata": {},
   "outputs": [],
   "source": [
    "# Creating the Confusion matrix \n",
    "cm <- conf_mat(test_df.scored, truth = LeagueIndex, class)"
   ]
  },
  {
   "cell_type": "code",
   "execution_count": null,
   "metadata": {},
   "outputs": [],
   "source": [
    "#TP TN FP FN\n",
    "cm"
   ]
  },
  {
   "cell_type": "code",
   "execution_count": null,
   "metadata": {},
   "outputs": [],
   "source": [
    "#Summary of the matrix\n",
    "summary(cm)"
   ]
  },
  {
   "cell_type": "code",
   "execution_count": null,
   "metadata": {},
   "outputs": [],
   "source": [
    "# Performace plot\n",
    "ggplot(summary(cm), aes(x=.metric, y=.estimate)) + \n",
    "  geom_bar(stat=\"identity\") + \n",
    "  coord_flip()"
   ]
  },
  {
   "cell_type": "code",
   "execution_count": null,
   "metadata": {},
   "outputs": [],
   "source": [
    "set.seed(1)"
   ]
  },
  {
   "cell_type": "code",
   "execution_count": null,
   "metadata": {},
   "outputs": [],
   "source": [
    "sample <- sample.split(nill_outliers_gameDf_scaled$LeagueIndex, SplitRatio = .7)\n",
    "train  <- subset(nill_outliers_gameDf_scaled, sample == TRUE)\n",
    "test   <- subset(nill_outliers_gameDf_scaled, sample == FALSE)"
   ]
  },
  {
   "cell_type": "code",
   "execution_count": null,
   "metadata": {},
   "outputs": [],
   "source": [
    "dim(train)\n",
    "dim(test)"
   ]
  },
  {
   "cell_type": "code",
   "execution_count": null,
   "metadata": {},
   "outputs": [],
   "source": [
    "rf <- randomForest(\n",
    "  LeagueIndex ~ .,\n",
    "  data=train\n",
    ")"
   ]
  },
  {
   "cell_type": "code",
   "execution_count": null,
   "metadata": {},
   "outputs": [],
   "source": [
    "rf"
   ]
  },
  {
   "cell_type": "code",
   "execution_count": null,
   "metadata": {},
   "outputs": [],
   "source": [
    "pred = predict(rf, newdata=test[-1])"
   ]
  },
  {
   "cell_type": "code",
   "execution_count": null,
   "metadata": {},
   "outputs": [],
   "source": [
    "cm = table(test[,1], pred)"
   ]
  },
  {
   "cell_type": "code",
   "execution_count": null,
   "metadata": {},
   "outputs": [],
   "source": [
    "x <- ctree (LeagueIndex ~ ., data=test)\n",
    "plot(x, type=\"simple\")"
   ]
  },
  {
   "cell_type": "code",
   "execution_count": null,
   "metadata": {},
   "outputs": [],
   "source": [
    "install.packages(\"caret\")\n",
    "install.packages(\"imbalance\")"
   ]
  },
  {
   "cell_type": "code",
   "execution_count": null,
   "metadata": {},
   "outputs": [],
   "source": [
    "library(caret) # for applying classification and getting confusion matrix\n",
    "library(imbalance) # for haberman data set\n",
    "library(dplyr) # for transforming to tibble object\n",
    "library(cvms) # for plot a confusion matrix in R"
   ]
  },
  {
   "cell_type": "code",
   "execution_count": null,
   "metadata": {},
   "outputs": [],
   "source": [
    "train_pred = predict(rf, newdata=train[-1])"
   ]
  },
  {
   "cell_type": "code",
   "execution_count": null,
   "metadata": {},
   "outputs": [],
   "source": [
    "cm_table_train = cm_train = table(train[,1], train_pred)"
   ]
  },
  {
   "cell_type": "code",
   "execution_count": null,
   "metadata": {},
   "outputs": [],
   "source": [
    "test_pred = predict(rf, newdata=test[-1])"
   ]
  },
  {
   "cell_type": "code",
   "execution_count": null,
   "metadata": {},
   "outputs": [],
   "source": [
    "cm_test = table(test[,1], test_pred)"
   ]
  },
  {
   "cell_type": "code",
   "execution_count": null,
   "metadata": {},
   "outputs": [],
   "source": [
    "cm_train_ef = enframe(cm_train, name = \"table\", value = \"value\")"
   ]
  },
  {
   "cell_type": "code",
   "execution_count": null,
   "metadata": {},
   "outputs": [],
   "source": [
    "cm_test_ef = enframe(cm_test, name = \"table\", value = \"value\")"
   ]
  },
  {
   "cell_type": "code",
   "execution_count": null,
   "metadata": {},
   "outputs": [],
   "source": [
    "# Tibble for train data\n",
    "tab_fin_train=as_tibble(cm_train_ef$table)\n",
    "\n",
    "colnames(tab_fin_train)=c(\"Target\", \"Prediction\", \"N\")"
   ]
  },
  {
   "cell_type": "code",
   "execution_count": null,
   "metadata": {},
   "outputs": [],
   "source": [
    "# Tibble for test data\n",
    "tab_fin_test=as_tibble(cm_test_ef$table)\n",
    "\n",
    "colnames(tab_fin_test)=c(\"Target\", \"Prediction\", \"N\")"
   ]
  },
  {
   "cell_type": "code",
   "execution_count": null,
   "metadata": {},
   "outputs": [],
   "source": [
    "# Confusion matrix for train data\n",
    "plot_confusion_matrix(tab_fin_train)"
   ]
  },
  {
   "cell_type": "code",
   "execution_count": null,
   "metadata": {},
   "outputs": [],
   "source": [
    "# Confusion matrix for test data\n",
    "plot_confusion_matrix(tab_fin_test"
   ]
  },
  {
   "cell_type": "code",
   "execution_count": null,
   "metadata": {},
   "outputs": [],
   "source": [
    "set.seed(1)"
   ]
  },
  {
   "cell_type": "code",
   "execution_count": null,
   "metadata": {},
   "outputs": [],
   "source": [
    "gameDataSet[ gameDataSet == \"?\"] <- NA\n",
    "colSums(is.na(gameDataSet))"
   ]
  },
  {
   "cell_type": "code",
   "execution_count": null,
   "metadata": {},
   "outputs": [],
   "source": [
    "summary(gameDataSet)"
   ]
  },
  {
   "cell_type": "code",
   "execution_count": null,
   "metadata": {},
   "outputs": [],
   "source": [
    "gameDataSet <- gameDataSet[!(gameDataSet$Age %in% c(NA)),]\n",
    "gameDataSet <- gameDataSet[!(gameDataSet$HoursPerWeek %in% c(NA)),]\n",
    "gameDataSet <- gameDataSet[!(gameDataSet$TotalHours %in% c(NA)),]\n",
    "\n",
    "colSums(is.na(gameDataSet))"
   ]
  },
  {
   "cell_type": "code",
   "execution_count": null,
   "metadata": {},
   "outputs": [],
   "source": [
    "sample1 <- sample.split(gameDataSet$LeagueIndex, SplitRatio = .7)\n",
    "train1  <- subset(gameDataSet, sample == TRUE)\n",
    "test1   <- subset(gameDataSet, sample == FALSE)"
   ]
  },
  {
   "cell_type": "code",
   "execution_count": null,
   "metadata": {},
   "outputs": [],
   "source": [
    "dim(train1)\n",
    "dim(test1)"
   ]
  },
  {
   "cell_type": "code",
   "execution_count": null,
   "metadata": {},
   "outputs": [],
   "source": [
    "rf1 <- randomForest(\n",
    "  LeagueIndex ~ .,\n",
    "  data=train1\n",
    ")"
   ]
  },
  {
   "cell_type": "code",
   "execution_count": null,
   "metadata": {},
   "outputs": [],
   "source": [
    "rf1"
   ]
  },
  {
   "cell_type": "code",
   "execution_count": null,
   "metadata": {},
   "outputs": [],
   "source": [
    "install.packages(\"OneR\")\n",
    "install.packages(\"rfviz\")"
   ]
  },
  {
   "cell_type": "code",
   "execution_count": null,
   "metadata": {},
   "outputs": [],
   "source": [
    "library(ggplot2)\n",
    "library(OneR)\n",
    "library(rfviz)\n",
    "library(tidyverse)"
   ]
  },
  {
   "cell_type": "code",
   "execution_count": null,
   "metadata": {},
   "outputs": [],
   "source": [
    "sample_rg <- sample.split(nill_outliers_gameDf_scaled$LeagueIndex, SplitRatio = .7)\n",
    "train_rg  <- subset(nill_outliers_gameDf_scaled, sample_rg == TRUE)\n",
    "test_rg   <- subset(nill_outliers_gameDf_scaled, sample_rg == FALSE)"
   ]
  },
  {
   "cell_type": "code",
   "execution_count": null,
   "metadata": {},
   "outputs": [],
   "source": [
    "train_rg_x = train_rg[-1]\n",
    "train_rg_y = train_rg[1]"
   ]
  },
  {
   "cell_type": "code",
   "execution_count": null,
   "metadata": {},
   "outputs": [],
   "source": [
    "head(nill_outliers_gameDf_scaled)"
   ]
  },
  {
   "cell_type": "code",
   "execution_count": null,
   "metadata": {},
   "outputs": [],
   "source": [
    "colSums(is.na(nill_outliers_gameDf_scaled)"
   ]
  },
  {
   "cell_type": "code",
   "execution_count": null,
   "metadata": {},
   "outputs": [],
   "source": [
    "class(train_rg_y[,1])"
   ]
  },
  {
   "cell_type": "code",
   "execution_count": null,
   "metadata": {},
   "outputs": [],
   "source": [
    "rfprep <- rf_prep(train_rg_x, train_rg_y[,1])"
   ]
  },
  {
   "cell_type": "code",
   "execution_count": null,
   "metadata": {},
   "outputs": [],
   "source": [
    "varImpPlot(rfprep$rf)"
   ]
  },
  {
   "cell_type": "code",
   "execution_count": null,
   "metadata": {},
   "outputs": [],
   "source": [
    "#Pull up the visualization tool\n",
    "bcrf <- rf_viz(rfprep, input=TRUE, imp=TRUE, cmd=TRUE)"
   ]
  },
  {
   "cell_type": "code",
   "execution_count": null,
   "metadata": {},
   "outputs": [],
   "source": [
    "set.seed(4543)"
   ]
  },
  {
   "cell_type": "code",
   "execution_count": null,
   "metadata": {},
   "outputs": [],
   "source": [
    "rfrg.fit <- randomForest(LeagueIndex ~ ., data=nill_outliers_gameDf_scaled, ntree=1000,\n",
    "                       keep.forest=FALSE, importance=TRUE)"
   ]
  },
  {
   "cell_type": "code",
   "execution_count": null,
   "metadata": {},
   "outputs": [],
   "source": [
    "rfrg.fit"
   ]
  },
  {
   "cell_type": "code",
   "execution_count": null,
   "metadata": {},
   "outputs": [],
   "source": [
    "# Output to be present as PNG file \n",
    "png(file = \"D:/Nav/my_projects/ML/PlayerPatterns_Recognition/randomForestRegression.png\")\n",
    "  \n",
    "# Plot the error vs the number of trees graph\n",
    "plot(rfrg.fit)\n",
    "  \n",
    "# Saving the file\n",
    "dev.off()"
   ]
  },
  {
   "cell_type": "code",
   "execution_count": null,
   "metadata": {},
   "outputs": [],
   "source": [
    "# Best number of clusters using NbClust\n",
    "set.seed(26)\n",
    "clusterNo=NbClust(new_input_gameDf,distance=\"euclidean\", min.nc=2,max.nc=10,method=\"kmeans\",index=\"all\")"
   ]
  },
  {
   "cell_type": "code",
   "execution_count": null,
   "metadata": {},
   "outputs": [],
   "source": [
    "# Best number of clusters using Elbow method\n",
    "fviz_nbclust(new_input_gameDf, kmeans, method = \"wss\") + geom_vline(xintercept = 2, linetype = 2)+ \n",
    "  labs(subtitle = \"Elbow method\")"
   ]
  },
  {
   "cell_type": "code",
   "execution_count": null,
   "metadata": {},
   "outputs": [],
   "source": [
    "# Best number of clusters using Silhouette method\n",
    "fviz_nbclust(new_input_gameDf, kmeans, method = \"silhouette\")+\n",
    "  labs(subtitle = \"Silhouette method\")"
   ]
  },
  {
   "cell_type": "code",
   "execution_count": null,
   "metadata": {},
   "outputs": [],
   "source": []
  }
 ],
 "metadata": {
  "kernelspec": {
   "display_name": "R",
   "language": "R",
   "name": "ir"
  },
  "language_info": {
   "codemirror_mode": "r",
   "file_extension": ".r",
   "mimetype": "text/x-r-source",
   "name": "R",
   "pygments_lexer": "r",
   "version": "3.6.1"
  }
 },
 "nbformat": 4,
 "nbformat_minor": 4
}
